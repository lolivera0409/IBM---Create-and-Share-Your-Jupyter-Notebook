{
 "cells": [
  {
   "cell_type": "markdown",
   "id": "a818b4d3",
   "metadata": {},
   "source": [
    "# Data Science Tools and Ecosystem"
   ]
  },
  {
   "cell_type": "markdown",
   "id": "8143c7cf",
   "metadata": {},
   "source": [
    "In this notebook, Data Science Tools and Ecosystem are summarized."
   ]
  },
  {
   "cell_type": "markdown",
   "id": "1c5632cb",
   "metadata": {},
   "source": [
    "**Objectives:**\n",
    "\n",
    "• List popular languages for Data Science\n",
    "\n",
    "• List commonly used libraries by Data Scientists\n",
    "\n",
    "• List some Data Science Tools"
   ]
  },
  {
   "cell_type": "markdown",
   "id": "2f4512ec",
   "metadata": {},
   "source": [
    "Some of the popular languages that Data Scientists use are:\n",
    "\n",
    "1\\. Python\n",
    "\n",
    "2\\. R\n",
    "\n",
    "3\\. Julia\n",
    "\n",
    "4\\. SQL"
   ]
  },
  {
   "cell_type": "markdown",
   "id": "dbda2ab7",
   "metadata": {},
   "source": [
    "Some of the commonly used libraries used by Data Scientists include:\n",
    "\n",
    "1\\. TensorFlow\n",
    "\n",
    "2\\. NumPy\n",
    "\n",
    "3\\. SciPy"
   ]
  },
  {
   "cell_type": "markdown",
   "id": "21865e50",
   "metadata": {},
   "source": [
    "| Data Science Tools |\n",
    "| -------------------|\n",
    "| Apache Spark |\n",
    "| RStudio |\n",
    "| TensorFlow |"
   ]
  },
  {
   "cell_type": "markdown",
   "id": "2ecfea0a",
   "metadata": {},
   "source": [
    "### Below are a few examples of evaluating arithmetic expressions in Python"
   ]
  },
  {
   "cell_type": "code",
   "execution_count": 11,
   "id": "03587afe",
   "metadata": {},
   "outputs": [
    {
     "data": {
      "text/plain": [
       "17"
      ]
     },
     "execution_count": 11,
     "metadata": {},
     "output_type": "execute_result"
    }
   ],
   "source": [
    "# This a simple arithmetic expression to mutiply then add integers\n",
    "\n",
    "(3*4)+5"
   ]
  },
  {
   "cell_type": "code",
   "execution_count": 12,
   "id": "a29dd22c",
   "metadata": {},
   "outputs": [
    {
     "data": {
      "text/plain": [
       "3.3333333333333335"
      ]
     },
     "execution_count": 12,
     "metadata": {},
     "output_type": "execute_result"
    }
   ],
   "source": [
    "# This will convert 200 minutes to hours by diving by 60\n",
    "(200/60)"
   ]
  },
  {
   "cell_type": "markdown",
   "id": "8837a847",
   "metadata": {},
   "source": [
    "## Author\n",
    "Lautaro olivera"
   ]
  }
 ],
 "metadata": {
  "kernelspec": {
   "display_name": "Python 3 (ipykernel)",
   "language": "python",
   "name": "python3"
  },
  "language_info": {
   "codemirror_mode": {
    "name": "ipython",
    "version": 3
   },
   "file_extension": ".py",
   "mimetype": "text/x-python",
   "name": "python",
   "nbconvert_exporter": "python",
   "pygments_lexer": "ipython3",
   "version": "3.10.9"
  }
 },
 "nbformat": 4,
 "nbformat_minor": 5
}
